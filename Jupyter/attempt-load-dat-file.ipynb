{
 "cells": [
  {
   "cell_type": "code",
   "execution_count": 1,
   "id": "014e35bf-649b-4402-bc4c-fe7265d71f76",
   "metadata": {},
   "outputs": [],
   "source": [
    "import pandas as pd"
   ]
  },
  {
   "cell_type": "markdown",
   "id": "69663bad-aa62-42a1-97ec-687c737abf13",
   "metadata": {},
   "source": [
    "# 1. Read the file using encoding as Latin-1"
   ]
  },
  {
   "cell_type": "code",
   "execution_count": 5,
   "id": "68d9ac70-5aa7-48b4-a1ed-16dde4c3d9ac",
   "metadata": {},
   "outputs": [],
   "source": [
    "file = \"/Users/fp4834/Downloads/Slice_109_Tile_1_840_1.dat\"\n",
    "header_lines = []\n",
    "data_lines = []\n",
    "\n",
    "with open(file, 'r', encoding='latin-1') as f:  # or encoding='cp1252'\n",
    "    for line in f:\n",
    "        if line.startswith('%') or line.startswith('#'):\n",
    "            header_lines.append(line.strip())\n",
    "        else:\n",
    "            data_lines.append(line)"
   ]
  },
  {
   "cell_type": "markdown",
   "id": "cb123c40-e99d-4b08-b13f-dd5dda3adf66",
   "metadata": {},
   "source": [
    "# 2. Ignore undecodable characters"
   ]
  },
  {
   "cell_type": "code",
   "execution_count": 6,
   "id": "5b4c20b4-06f0-4da5-863f-80873cb262e8",
   "metadata": {},
   "outputs": [],
   "source": [
    "with open(file, 'r', encoding='utf-8', errors='ignore') as f:\n",
    "    for line in f:\n",
    "        ..."
   ]
  },
  {
   "cell_type": "markdown",
   "id": "e16d0e1e-7c26-4a80-8ae4-3fd89b102ba7",
   "metadata": {},
   "source": [
    "# 3. Read the file as binary, decode only header"
   ]
  },
  {
   "cell_type": "code",
   "execution_count": 7,
   "id": "a4f0b443-f2ad-4a28-aead-46637b8bc3c6",
   "metadata": {},
   "outputs": [
    {
     "ename": "KeyboardInterrupt",
     "evalue": "",
     "output_type": "error",
     "traceback": [
      "\u001b[0;31m---------------------------------------------------------------------------\u001b[0m",
      "\u001b[0;31mKeyboardInterrupt\u001b[0m                         Traceback (most recent call last)",
      "Cell \u001b[0;32mIn[7], line 9\u001b[0m\n\u001b[1;32m      7\u001b[0m     header_lines\u001b[38;5;241m.\u001b[39mappend(line\u001b[38;5;241m.\u001b[39mdecode(\u001b[38;5;124m'\u001b[39m\u001b[38;5;124mlatin-1\u001b[39m\u001b[38;5;124m'\u001b[39m)\u001b[38;5;241m.\u001b[39mstrip())\n\u001b[1;32m      8\u001b[0m \u001b[38;5;28;01melse\u001b[39;00m:\n\u001b[0;32m----> 9\u001b[0m     data_bytes \u001b[38;5;241m+\u001b[39m\u001b[38;5;241m=\u001b[39m line\n",
      "\u001b[0;31mKeyboardInterrupt\u001b[0m: "
     ]
    }
   ],
   "source": [
    "header_lines = []\n",
    "data_bytes = b''\n",
    "\n",
    "with open(file, 'rb') as f:\n",
    "    for line in f:\n",
    "        if line.startswith(b'%') or line.startswith(b'#'):\n",
    "            header_lines.append(line.decode('latin-1').strip())\n",
    "        else:\n",
    "            data_bytes += line  # keep as raw bytes"
   ]
  },
  {
   "cell_type": "code",
   "execution_count": null,
   "id": "c496e314-9882-4a6a-a13d-febf1a115a66",
   "metadata": {},
   "outputs": [],
   "source": []
  }
 ],
 "metadata": {
  "kernelspec": {
   "display_name": "Python 3 (ipykernel)",
   "language": "python",
   "name": "python3"
  },
  "language_info": {
   "codemirror_mode": {
    "name": "ipython",
    "version": 3
   },
   "file_extension": ".py",
   "mimetype": "text/x-python",
   "name": "python",
   "nbconvert_exporter": "python",
   "pygments_lexer": "ipython3",
   "version": "3.12.7"
  }
 },
 "nbformat": 4,
 "nbformat_minor": 5
}
